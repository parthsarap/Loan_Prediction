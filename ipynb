import pandas as pd
import numpy as np
import matplotlib.pyplot as plt
import seaborn as sns
from sklearn.preprocessing import StandardScaler
from sklearn.model_selection import train_test_split
from tensorflow.keras.models import Sequential
from tensorflow.keras.layers import Dense, Input 
from tensorflow.keras.callbacks import EarlyStopping, ModelCheckpoint
from sklearn.metrics import accuracy_score, recall_score, f1_score, confusion_matrix
from sklearn.metrics import confusion_matrix
import seaborn as sns
import matplotlib.pyplot as plt
import matplotlib.pyplot as plt
import seaborn as sns
from sklearn.metrics import confusion_matrix, classification_report

df = pd.read_csv('loan_data.csv')
print(df.head())

print(df.isnull().sum())

print(df.describe())

for col in df.select_dtypes(include=[np.number]).columns:
df[col] = df[col].fillna(df[col].median())

for col in df.select_dtypes(include=['object']).columns:
df[col].fillna(df[col].mode()[0])

df = pd.get_dummies(df, drop_first=True)

scaler = StandardScaler()
df[df.select_dtypes(include=[np.number]).columns] = scaler.fit_transform(df.select_dtypes(include=[np.number]))

print(df.columns)

X = df.drop("Loan_Status_Y", axis=1)
y = df["Loan_Status_Y"]

X_train, X_test, y_train, y_test = train_test_split(X, y, test_size=0.2, random_state=42, stratify=y)

model = Sequential([
    Input(shape=(X_train.shape[1],)), 
    Dense(32, activation='relu'),
    Dense(16, activation='relu'),
    Dense(1, activation='sigmoid')
])

early_stopping = EarlyStopping(monitor='val_loss', patience=5, restore_best_weights=True)
model_checkpoint = ModelCheckpoint("best_model.keras", save_best_only=True)

model.compile(optimizer='adam', loss='binary_crossentropy', metrics=['accuracy'])

history = model.fit(X_train, y_train, validation_split=0.2, epochs=50, batch_size=32, 
callbacks=[early_stopping, model_checkpoint])

plt.plot(history.history['accuracy'], label='Training Accuracy')
plt.plot(history.history['val_accuracy'], label='Validation Accuracy')
plt.legend()
plt.show()

y_pred = (model.predict(X_test) > 0.5).astype(int)
print("Accuracy:", accuracy_score(y_test, y_pred))
print("Recall:", recall_score(y_test, y_pred))
print("F1 Score:", f1_score(y_test, y_pred))

cm = confusion_matrix(y_test, y_pred)

classes = ["Not Eligible", "Eligible"]

plt.figure(figsize=(8, 6)) 
sns.heatmap(
    cm, 
    annot=True,         # Show the numbers in each cell
    fmt='d',            # Format as integers
    cmap='coolwarm',    # Color scheme
    xticklabels=classes, 
    yticklabels=classes
)

plt.title("Confusion Matrix", fontsize=16)
plt.xlabel("Predictions", fontsize=12)
plt.ylabel("Actual Values", fontsize=12)

plt.show()

print("Classification report:")
print(classification_report(y_test, y_pred, target_names=classes))
